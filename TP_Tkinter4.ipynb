{
 "cells": [
  {
   "cell_type": "markdown",
   "metadata": {},
   "source": [
    "# TP Tkinter partie 4 : animation"
   ]
  },
  {
   "cell_type": "markdown",
   "metadata": {},
   "source": [
    "## 1) Détection d'un clic de souris"
   ]
  },
  {
   "cell_type": "markdown",
   "metadata": {},
   "source": [
    "On peut associer à n’importe quel widget une fonction « gestionnaire d’évènement », à l’aide de **la méthode bind()**.\n",
    "Il faut alors obligatoirement utiliser comme premier argument un objet Python standard nommé _event_. \n",
    "\n",
    "Lire, tester et analyser par exemple le code ci-dessous :"
   ]
  },
  {
   "cell_type": "code",
   "execution_count": 3,
   "metadata": {},
   "outputs": [],
   "source": [
    "from tkinter import *\n",
    "\n",
    "def affiche_coords(event):\n",
    "    abscisse=event.x\n",
    "    ordonnee=event.y\n",
    "    chaine.configure(text='Clic détecté en X='+str(abscisse) + ', Y='+str(ordonnee))\n",
    "\n",
    "#démarrage du programme principal : construction de la fenêtre et des widgets\n",
    "fen=Tk()\n",
    "cadre=Canvas(fen,width = 200, height = 150, bg = 'light yellow')\n",
    "\n",
    "cadre.bind('<Button-1>', affiche_coords) #ligne très importante : le widget Frame est relié à la fonction définie plus haut\n",
    "#un clic de souris sur le canevas va déclencher l'appel à cette fonction\n",
    "cadre.pack()\n",
    "\n",
    "chaine = Label(fen)\n",
    "chaine.pack()\n",
    "\n",
    "fen.mainloop()"
   ]
  },
  {
   "cell_type": "markdown",
   "metadata": {},
   "source": [
    "L'événement détecté (ici un clic de souris) a toujours pour nom _event_. Il possède deux attributs _x_ et _y_ donnant ses coordonnées. La fonction <code>affiche_coords</code> se contente d'afficher ces dernières."
   ]
  },
  {
   "cell_type": "markdown",
   "metadata": {},
   "source": [
    "### Exercice 1 :"
   ]
  },
  {
   "cell_type": "markdown",
   "metadata": {},
   "source": [
    " Modifier le programme précédent de façon à faire apparaître un petit cercle rouge à l’endroit où l’utilisateur a effectué son clic"
   ]
  },
  {
   "cell_type": "markdown",
   "metadata": {},
   "source": [
    "## 2. Déplacement à l'aide de boutons"
   ]
  },
  {
   "cell_type": "markdown",
   "metadata": {},
   "source": [
    "Lire, tester et analyser le code suivant :"
   ]
  },
  {
   "cell_type": "code",
   "execution_count": 4,
   "metadata": {},
   "outputs": [],
   "source": [
    "from tkinter import *\n",
    "#procédure générale de déplacement\n",
    "\n",
    "def avance(dx,dy):\n",
    "    global x1, y1\n",
    "    x1, y1 = x1+dx , y1+dy\n",
    "    can1.coords(oval1, x1, y1, x1+30, y1+30)\n",
    "\n",
    "#gestionnaires d'évènements\n",
    "def depl_gauche():\n",
    "    avance(-10,0)\n",
    "def depl_droite():\n",
    "    avance(10,0)\n",
    "def depl_haut():\n",
    "    avance(0,-10)\n",
    "def depl_bas():\n",
    "    avance(0,10)\n",
    "\n",
    "# ************ programme principal **************\n",
    "#les variables suivantes seront utilisées de manière globale\n",
    "x1, y1 = 10, 10   #coordonnées initiales\n",
    "\n",
    "#création du widget principal (\"maître\")\n",
    "fen1=Tk()\n",
    "fen1.title(\"Exercice d'animation avec Tkinter\")\n",
    "\n",
    "#création des widgets \"esclaves\"\n",
    "can1=Canvas(fen1, bg='dark grey', height=300, width=300)\n",
    "oval1=can1.create_oval(x1, y1, x1+30, y1+30, width=2, fill='red')\n",
    "can1.pack(side=LEFT)\n",
    "\n",
    "Button(fen1, text='Quitter', command=fen1.quit).pack(side=BOTTOM)\n",
    "Button(fen1, text='Gauche', command=depl_gauche).pack()\n",
    "Button(fen1, text='Droite', command=depl_droite).pack()\n",
    "Button(fen1, text='Bas', command=depl_bas).pack()\n",
    "Button(fen1, text='Haut', command=depl_haut).pack()\n",
    "\n",
    "#démarrage du réceptionnaire d'évènements\n",
    "fen1.mainloop()\n",
    "\n",
    "#quand la commande fen1.quit() sera appelée, le programme arrivera ici :\n",
    "fen1.destroy()"
   ]
  },
  {
   "cell_type": "markdown",
   "metadata": {},
   "source": [
    "La balle est représentée par un cercle stocké dans la variable <code>oval1</code>\n",
    "\n",
    "La nouveauté de ce programme réside dans la fonction <code>avance()</code> définie au début du script. Chaque fois qu’elle sera appelée, **cette fonction redéfinira les coordonnées de l'objet _oval1_**, ce qui provoquera l’animation de la balle."
   ]
  },
  {
   "cell_type": "markdown",
   "metadata": {},
   "source": [
    "### Exercice 2 : un peu d'astrophysique"
   ]
  },
  {
   "cell_type": "markdown",
   "metadata": {},
   "source": [
    "Ecrire un programme qui fait apparaître une fenêtre avec un canevas. Dans ce canevas, on verra **deux cercles** (de tailles et couleurs différentes) représentant des astres. \n",
    "On affichera en haut de la fenêtre **les masses choisies pour ces astres**. Des boutons doivent permettre de les déplacer à volonté tous les deux. \n",
    "\n",
    "Sous le canevas, le programme doit afficher en permanence : \n",
    "- La distance séparant les deux astres\n",
    "- La force gravitationnelle qu’ils exercent l’un sur l’autre\n"
   ]
  },
  {
   "cell_type": "markdown",
   "metadata": {},
   "source": [
    "## 3. Animation automatique par récursivité"
   ]
  },
  {
   "cell_type": "markdown",
   "metadata": {},
   "source": [
    "Lire, tester et analyser le programme suivant :"
   ]
  },
  {
   "cell_type": "code",
   "execution_count": 17,
   "metadata": {},
   "outputs": [],
   "source": [
    "from tkinter import *\n",
    "\n",
    "#gestionnaires d'évènements\n",
    "def move():\n",
    "    \"déplacement de la balle\"\n",
    "    global x1, y1, dx, dy\n",
    "    x1, y1 = x1+dx, y1+dy\n",
    "    if x1>210:\n",
    "        x1, dx, dy = 210, 0, 15\n",
    "    if y1>210:\n",
    "        y1, dx, dy = 210, -15, 0\n",
    "    if x1<10:\n",
    "        x1, dx, dy = 10, 0, -15\n",
    "    if y1<10:\n",
    "        y1, dx, dy = 10, 15, 0\n",
    "    can1.coords(oval1, x1, y1, x1+30, y1+30)\n",
    "    if flag>0:\n",
    "        fen1.after(50, move) #boucler après 50 millisecondes\n",
    "\n",
    "def stop_it():\n",
    "    \"arrêt de l'animation\"\n",
    "    global flag\n",
    "    flag=0\n",
    "\n",
    "def start_it():\n",
    "    \"démarrage de l'animation\"\n",
    "    global flag\n",
    "    if flag==0:   #on teste pour ne lancer qu'une seule boucle !\n",
    "        flag=1\n",
    "        move()\n",
    "\n",
    "\n",
    "# ************ Programme principal **************\n",
    "#les variables suivantes seront utilisées de manière globale\n",
    "x1, y1 = 10, 10      #coordonnées initiales\n",
    "dx, dy = 15, 0       #'pas' du déplacement\n",
    "flag = 0             #commutateur\n",
    "\n",
    "#création du widget principal (\"maître\")\n",
    "fen1=Tk()\n",
    "fen1.title(\"Exercice d'animation automatique avec Tkinter\")\n",
    "\n",
    "#création des widgets \"esclaves\"\n",
    "can1=Canvas(fen1, bg='dark grey', height=250, width=250)\n",
    "oval1=can1.create_oval(x1, y1, x1+30, y1+30, width=2, fill='red')\n",
    "can1.pack(side=LEFT, padx=5, pady=5)\n",
    "\n",
    "bou1 = Button(fen1, text='Quitter', width = 8, command=fen1.quit)\n",
    "bou1.pack(side=BOTTOM)\n",
    "\n",
    "bou2 = Button(fen1, text='Démarrer', width = 8, command=start_it)\n",
    "bou2.pack()\n",
    "\n",
    "bou3 = Button(fen1, text='Arrêter', width = 8, command=stop_it)\n",
    "bou3.pack()\n",
    "\n",
    "#démarrage du réceptionnaire d'évènements\n",
    "fen1.mainloop()\n",
    "\n",
    "#quand la commande fen1.quit() sera appelée, le programme arrivera ici :\n",
    "fen1.destroy()"
   ]
  },
  {
   "cell_type": "markdown",
   "metadata": {},
   "source": [
    "### FOCUS 1 : la méthode <code>after()</code>"
   ]
  },
  {
   "cell_type": "markdown",
   "metadata": {},
   "source": [
    "La méthode <code>after()</code>, ici appliquée à l’objet _fen1_, peut s’appliquer à un widget quelconque. Elle déclenche **l’appel d’une fonction après qu’un certain laps de temps se soit écoulé**. \n",
    "\n",
    "Ici, le laps de temps est 50 millisecondes, et la fonction appelée est la fonction move()"
   ]
  },
  {
   "cell_type": "markdown",
   "metadata": {},
   "source": [
    "### FOCUS 2 : la fonction <code>move</code>"
   ]
  },
  {
   "cell_type": "markdown",
   "metadata": {},
   "source": [
    "C’est donc la fonction <code>move()</code> qui est appelée au sein… de la fonction <code>move()</code> elle-même !! On utilise ici la **technique très puissante de récursivité** (une fonction qui s’appelle elle-même).\n",
    "\n",
    "On obtient alors un bouclage, qui pourrait se perpétuer indéfiniment si on n’avait pas prévu un moyen de l’interrompre.\n",
    "\n",
    "**lequel** ? .........................."
   ]
  },
  {
   "cell_type": "markdown",
   "metadata": {},
   "source": [
    "### A faire : "
   ]
  },
  {
   "cell_type": "markdown",
   "metadata": {},
   "source": [
    "Dans la fonction <code>start_it()</code>, supprimer l’instruction <code>if flag==0</code> et l’indentation des deux lignes suivantes. \n",
    "\n",
    "Lancer le programme, et cliquer plusieurs fois sur Démarrer. Que se passe-t-il ? Pourquoi ?"
   ]
  },
  {
   "cell_type": "markdown",
   "metadata": {},
   "source": [
    "### Entraînement"
   ]
  },
  {
   "cell_type": "markdown",
   "metadata": {},
   "source": [
    "#### 1. Modifier le programme de façon à ce que la balle change de couleur à chaque virage"
   ]
  },
  {
   "cell_type": "markdown",
   "metadata": {},
   "source": [
    "#### 2. Remplacer dans le programme la fonction <code>move()</code> par celle qui suit. Que se passe-t-il ?"
   ]
  },
  {
   "cell_type": "code",
   "execution_count": null,
   "metadata": {},
   "outputs": [],
   "source": [
    "def move():\n",
    "    \"déplacement de la balle\"\n",
    "    global x1, y1, t\n",
    "    #'pas' initial du déplacement selon x\n",
    "    t=2*pi/n\n",
    "    \n",
    "    #nouvelles coordonnées\n",
    "    x2=125+(x1-125)*cos(t)-(y1-125)*sin(t)\n",
    "    y2=125+(x1-125)*sin(t)+(y1-125)*cos(t)\n",
    "    x1,y1=x2,y2\n",
    "    #modifie les coordonnées de la balle (via une modif des attributs de l'objet)\n",
    "    can1.coords(oval1, x1, y1, x1+20, y1+20)\n",
    "    \n",
    "    if flag>0:\n",
    "        fen1.after(100, move) #boucler après 50 millisecondes\n"
   ]
  },
  {
   "cell_type": "markdown",
   "metadata": {},
   "source": [
    "## Défi : attraper la balle"
   ]
  },
  {
   "cell_type": "markdown",
   "metadata": {},
   "source": [
    "Ecrire un programme de jeu fonctionnant de la manière suivante : \n",
    "\n",
    "Une balle se déplace au hasard sur un canevas, à vitesse faible. Le joueur doit essayer de cliquer sur la balle à l’aide de la souris. S’il y arrive, il gagne un point, mais la balle se déplace désormais un peu plus vite, et ainsi de suite. Arrêter le jeu après un certain nombre de clics, et afficher le score atteint.\n"
   ]
  },
  {
   "cell_type": "code",
   "execution_count": null,
   "metadata": {},
   "outputs": [],
   "source": []
  }
 ],
 "metadata": {
  "kernelspec": {
   "display_name": "Python 3",
   "language": "python",
   "name": "python3"
  },
  "language_info": {
   "codemirror_mode": {
    "name": "ipython",
    "version": 3
   },
   "file_extension": ".py",
   "mimetype": "text/x-python",
   "name": "python",
   "nbconvert_exporter": "python",
   "pygments_lexer": "ipython3",
   "version": "3.7.2"
  }
 },
 "nbformat": 4,
 "nbformat_minor": 2
}
